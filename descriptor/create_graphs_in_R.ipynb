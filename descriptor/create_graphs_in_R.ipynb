{
 "cells": [
  {
   "cell_type": "markdown",
   "metadata": {},
   "source": [
    "# Creating Network Graphs for the WALK Project\n",
    "\n",
    "The purpose of this notebook is to create visually attractive network graphs from the WALK partner Web Archives for the public to view and manipulate online. We would like to promote the use of web archives, but unfortunately, the datasets for these files are very large. Without some visual cues, it would be difficult to know what is going on inside them.\n",
    "\n",
    "Networks are one way among many to show what websites are mentioned in the web archives and how they link to each other. Hopefully, most of the technical details are covered for you.  I wanted you to be able to see the technical side of things, while at the same time being able to modify it if you wish.\n",
    "\n",
    "Because we are using [git](https://www.github.com), you should be able to make as many changes as you want to this notebook without hurting the main repository.  So, feel free to play around as much as you want.  \n",
    "\n",
    "The code being used for this repository is R. R is optimised for conducting statistical analysis. Inside R are a number of libraries that can be installed.  A library is more code that has been built in such a way to be used by other programmers.  To access a library, we \"import\" the library.  In our case, the main libraries are iGraph, which is a tool for analyzing network graphs, and visNetwork which is a library for making attractive interactive network graphs.\n",
    "\n",
    "We install the libraries below.  In R code, putting a `#` in front of code means it is a comment.  Coders use comments for two main reasons.  1. To describe what is happening in code for other coders to read it.  2. To \"comment out\" code that is not being used currently, but might be used later.  When I want to use the code that is commented out, I will just simply remove the `#` and it will run as stated."
   ]
  },
  {
   "cell_type": "code",
   "execution_count": 1,
   "metadata": {
    "collapsed": true
   },
   "outputs": [],
   "source": [
    "# Install the libraries\n",
    "# suppressMessages is just a tool that keeps R from outputting information that we don't need to see right now.\n",
    "suppressMessages(library(igraph))\n",
    "suppressMessages(library(visNetwork))\n",
    "\n",
    "# Some other libraries we may use later\n",
    "\n",
    "#suppressMessages(library(intergraph))\n",
    "#suppressMessages(library(network))\n",
    "#suppressMessages(library(ergm))\n"
   ]
  },
  {
   "cell_type": "markdown",
   "metadata": {},
   "source": [
    "processFile is something we call a function.  It is a process that we might call later on to simplify out code.  There's not too much to worry about here, except to know that this takes the path of a file, grabs some data and returns a \"dataframe\" which is kind of like a spreadsheet for us to manipulate."
   ]
  },
  {
   "cell_type": "code",
   "execution_count": 2,
   "metadata": {
    "collapsed": true
   },
   "outputs": [],
   "source": [
    "\n",
    "# Helper function for getting warcbase data into igraph\n",
    "processFile = function(filepath) {\n",
    "  con = file(filepath, \"r\")\n",
    "  line = readLines(con)\n",
    "  line <- as.data.frame(do.call(rbind, (strsplit(gsub('\\\\(|\\\\)', '', line), ','))), stringsAsFactors=FALSE)\n",
    "  names(line) = c(\"date\", \"from\", \"to\", \"weight\")\n",
    "  return (line)\n",
    "  close(con)\n",
    "}\n"
   ]
  },
  {
   "cell_type": "markdown",
   "metadata": {},
   "source": [
    "This next part takes the data file from the folder already on your vpn and gives it an easy name (variable) for futre use.  If you put a different title next to word `file` below, the data will be given the name `graph_file` and whatever you put in file2 will be put into `graph_file2`.  That means if you were to create a note book and write `print (graph_file2)` it would show you a summary of the data as an igraph `object`.  "
   ]
  },
  {
   "cell_type": "code",
   "execution_count": 7,
   "metadata": {},
   "outputs": [],
   "source": [
    "\n",
    "# Grab the data files\n",
    "filepath = '/data/links/'\n",
    "\n",
    "\n",
    "# Change the following file to the \n",
    "file = 'ALBERTA_edmonton_public_library'\n",
    "#       ^^^^^^^^^^^^^^^^^^^^^^^^^^  <- Change to the file name you want. Leave out \"-links.txt\"\n",
    "\n",
    "suffix = '-links.txt'\n",
    "file2 = 'DALHOUSIE_Halifax_Regional_Municipality_Documents'\n",
    "#       ^^^^^^^^^^^^^^^^^^^^^^^^^^  <- Change to the file name you want. Leave out \"-links.txt\"\n",
    "\n",
    "\n",
    "savesuffix = '.graphml'\n",
    "savepath = '~/data/graphml/'\n",
    "htmlsavepath = '~/data/html/'\n",
    "htmlsavesuffix = '.html'\n",
    "\n",
    "filename = paste0(filepath, file, suffix)\n",
    "filename2 = paste0(filepath, file2, suffix)\n",
    "savename = paste0(savepath, file, savesuffix)\n",
    "savename2 = paste0(savepath, file2, savesuffix)\n",
    "savehtml = paste0(htmlsavepath, file, htmlsavesuffix)\n",
    "savehtml2 = paste0(htmlsavepath, file2, htmlsavesuffix)\n",
    "\n",
    "graph_file <- graph.data.frame(unique(processFile(filename)[c(\"from\", \"to\")]), directed=TRUE)\n",
    "graph_file <- simplify(graph_file)\n",
    "\n",
    "graph_file2 <- graph.data.frame(unique(processFile(filename2)[c(\"from\", \"to\")]), directed=TRUE)\n",
    "graph_file2 <- simplify(graph_file2)"
   ]
  },
  {
   "cell_type": "markdown",
   "metadata": {},
   "source": [
    "The section below does some mathematical work that can be useful in sizing and shaping the network.  For instance, it is common to make the bubbles in a network bigger when they have more links.  It is also common to use different algoritms to detect groupings of bubbles based on common relationships and show them as the same color.\n",
    "\n",
    "A `vector` in r, is really just a list of data.  It is created using `c(\"here\", \"is\", \"a\", \"vector\")`.\n",
    "\n",
    "You can switch between graph_file & graph_file2 simply by changing what happens after `graphfile <-` to the right igraph object name.\n",
    "\n",
    "I also asked R to output some descriptive data for the network here.  For example, \"average in-degree\" refers to the average number of links to each website in the archive.\n",
    "\n",
    "Later on there will be a little workshop explaining some of this to you.  But for now, we just want to create a reasonably attractive network."
   ]
  },
  {
   "cell_type": "code",
   "execution_count": 5,
   "metadata": {},
   "outputs": [
    {
     "name": "stdout",
     "output_type": "stream",
     "text": [
      "[1] \"Average In-degree: 1.15150736003085\"\n",
      "[1] \"Average Out-degree: 1.15150736003085\"\n",
      "[1] \"Average Degree: 2.30301472006171\"\n",
      "[1] \"Average In-degree: 1.4903156384505\"\n",
      "[1] \"Average Out-degree: 1.4903156384505\"\n",
      "[1] \"Average Degree: 2.980631276901\"\n"
     ]
    }
   ],
   "source": [
    "# Change this to whatever graph_file you want.\n",
    "# graph_file <- graph_file\n",
    "#             ^^^^^^^^^^^  <- Change to graph_file or graph_file2 as required.\n",
    "\n",
    "#Create vectors for strongly connected components, degree etc.\n",
    "# A \"weakly\" connected component is one where websites are connected in a single unit.\n",
    "# A \"strongly\" connected component happens when you are able to follow a path along the links and hit every bubble.\n",
    "# For our purposes, we only need to know that \n",
    "# whole network > weakly connected component > strongly connected component.\n",
    "# We will want to use \"weak\" \"strong\" or \"full\" to modify the size of the network for visualization.\n",
    "V(graph_file)$s_component <- clusters(graph_file, \"strong\")$membership\n",
    "V(graph_file)$w_component <- clusters(graph_file, \"weak\")$membership\n",
    "\n",
    "V(graph_file2)$s_component <- clusters(graph_file2, \"strong\")$membership\n",
    "V(graph_file2)$w_component <- clusters(graph_file2, \"weak\")$membership\n",
    " \n",
    "dist_component_id <- which(clusters(graph_file, \"strong\")$csize == max(clusters(graph_file, \"strong\")$csize))\n",
    "weak_component_id <- which(clusters(graph_file, \"weak\")$csize == max(clusters(graph_file, \"weak\")$csize))\n",
    "\n",
    "dist_component_id2 <- which(clusters(graph_file2, \"strong\")$csize == max(clusters(graph_file2, \"strong\")$csize))\n",
    "weak_component_id2 <- which(clusters(graph_file2, \"weak\")$csize == max(clusters(graph_file2, \"weak\")$csize))\n",
    "\n",
    "strongly_connected_graph <- induced_subgraph(graph_file, which(V(graph_file)$s_component == dist_component_id))\n",
    "weakly_connected_graph <- induced_subgraph(graph_file, which(V(graph_file)$w_component == weak_component_id))\n",
    "\n",
    "strongly_connected_graph2 <- induced_subgraph(graph_file2, which(V(graph_file2)$s_component == dist_component_id2))\n",
    "weakly_connected_graph2 <- induced_subgraph(graph_file2, which(V(graph_file2)$w_component == weak_component_id2))\n",
    "\n",
    "#  It may not make sense to plot the full graph if it is too large.\n",
    "#  In this case, we should plot a large component.  In extreme cases,\n",
    "#  We can plot just the strongly connected component.\n",
    "\n",
    "full <- graph_file\n",
    "weak <- weakly_connected_graph\n",
    "strong <- strongly_connected_graph\n",
    "\n",
    "full2 <- graph_file2\n",
    "weak2 <- weakly_connected_graph2\n",
    "strong2 <- strongly_connected_graph2\n",
    "\n",
    "\n",
    "#  Change graph_plot_name to whichever of the above you'd like to plot.\n",
    "\n",
    "graph_plot_name <- full\n",
    "#                  ^^^^^^  can be weak, strong or full.\n",
    "\n",
    "graph_plot_name2 <- full2\n",
    "\n",
    "V(graph_plot_name)$rlabel <- NA\n",
    "V(graph_plot_name)$relevant <- FALSE\n",
    "V(graph_plot_name)$wtc <- NA\n",
    "\n",
    "V(graph_plot_name2)$rlabel <- NA\n",
    "V(graph_plot_name2)$relevant <- FALSE\n",
    "V(graph_plot_name2)$wtc <- NA\n",
    "\n",
    "V(graph_plot_name)$indegree <- degree(graph_plot_name, mode=\"in\", loops=FALSE)\n",
    "V(graph_plot_name)$outdegree <- degree(graph_plot_name, mode=\"out\", loops=FALSE)\n",
    "V(graph_plot_name)$degree <- degree(graph_plot_name, loops=FALSE)\n",
    "avg_indegree <- mean(V(graph_plot_name)$indegree)\n",
    "avg_outdegree <- mean(V(graph_plot_name)$outdegree)\n",
    "avg_degree <- mean(V(graph_plot_name)$degree)\n",
    "\n",
    "V(graph_plot_name2)$indegree <- degree(graph_plot_name2, mode=\"in\", loops=FALSE)\n",
    "V(graph_plot_name2)$outdegree <- degree(graph_plot_name2, mode=\"out\", loops=FALSE)\n",
    "V(graph_plot_name2)$degree <- degree(graph_plot_name2, loops=FALSE)\n",
    "avg_indegree2 <- mean(V(graph_plot_name2)$indegree)\n",
    "avg_outdegree2 <- mean(V(graph_plot_name2)$outdegree)\n",
    "avg_degree2 <- mean(V(graph_plot_name2)$degree)\n",
    "\n",
    "print (paste(\"Average In-degree:\", avg_indegree))\n",
    "print (paste(\"Average Out-degree:\", avg_outdegree))\n",
    "print (paste(\"Average Degree:\", avg_degree))\n",
    "\n",
    "print (paste(\"Average In-degree:\", avg_indegree2))\n",
    "print (paste(\"Average Out-degree:\", avg_outdegree2))\n",
    "print (paste(\"Average Degree:\", avg_degree2))\n",
    "\n",
    "# This piece of code can be used to determine the number of nodes that have their names on them.\n",
    "V(graph_plot_name)$relevant <- V(graph_plot_name)$degree > avg_degree + 5\n",
    "#                                                          ^^^^^^^^^^^^^  You could change this to +1, -1 etc.\n",
    "\n",
    "V(graph_plot_name2)$relevant <- V(graph_plot_name2)$degree > avg_degree2 + 5\n",
    "\n",
    "V(graph_plot_name)$rlabel[which(V(graph_plot_name)$relevant == TRUE)] <- V(graph_plot_name)$name[which(V(graph_plot_name)$relevant == TRUE)]\n",
    "V(graph_plot_name)$wtc <- membership(cluster_edge_betweenness(graph_plot_name))\n",
    "\n",
    "V(graph_plot_name2)$rlabel[which(V(graph_plot_name2)$relevant == TRUE)] <- V(graph_plot_name2)$name[which(V(graph_plot_name2)$relevant == TRUE)]\n",
    "V(graph_plot_name2)$wtc <- membership(cluster_edge_betweenness(graph_plot_name2))\n",
    "\n",
    "# With this, you will see the number and names of websites that will be labelled in the network graph.\n",
    "#print(V(graph_plot_name)$rlabel[which(V(graph_plot_name)$relevant == TRUE)])\n"
   ]
  },
  {
   "cell_type": "code",
   "execution_count": null,
   "metadata": {
    "collapsed": true
   },
   "outputs": [],
   "source": [
    "# Running this code will give you the details for plotting\n",
    "# in Igraph\n",
    "#?visIgraph\n"
   ]
  },
  {
   "cell_type": "code",
   "execution_count": 7,
   "metadata": {
    "scrolled": true
   },
   "outputs": [
    {
     "name": "stderr",
     "output_type": "stream",
     "text": [
      "Warning message in vattrs[[name]][index] <- value:\n",
      "“number of items to replace is not a multiple of replacement length”Warning message in vattrs[[name]][index] <- value:\n",
      "“number of items to replace is not a multiple of replacement length”"
     ]
    }
   ],
   "source": [
    "mems <- V(graph_plot_name)$wtc\n",
    "colors <- rainbow(max(mems))\n",
    "\n",
    "mems2 <- V(graph_plot_name2)$wtc\n",
    "colors2 <- rainbow(max(mems2))\n",
    "\n",
    "\n",
    "V(graph_plot_name)$frame.color <- \"black\"\n",
    "V(graph_plot_name)$size <- log(V(graph_plot_name)$degree)*5\n",
    "V(graph_plot_name)$label <- V(graph_plot_name)$rlabel\n",
    "V(graph_plot_name)$color=c(\"black\", \"red\", \"orange\", \"blue\", \"green\", \"orange\", \"yellow\", \"cadetblue1\", \"deeppink\")[as.numeric(match.arg(as.character(0:6),as.character(mems), several.ok=TRUE))]\n",
    "V(graph_plot_name)$label.cex=log(V(graph_plot_name)$degree/10)\n",
    "V(graph_plot_name)$shadow = FALSE\n",
    "E(graph_plot_name)$edge.curved=0.5\n",
    "E(graph_plot_name)$arrow.size=1\n",
    "E(graph_plot_name)$width=0.1\n",
    "\n",
    "V(graph_plot_name2)$frame.color <- \"black\"\n",
    "V(graph_plot_name2)$size <- log(V(graph_plot_name2)$degree)*5\n",
    "V(graph_plot_name2)$label <- V(graph_plot_name2)$rlabel\n",
    "V(graph_plot_name2)$color=c(\"black\", \"red\", \"orange\", \"blue\", \"green\", \"orange\", \"yellow\", \"cadetblue1\", \"deeppink\")[as.numeric(match.arg(as.character(0:6),as.character(mems), several.ok=TRUE))]\n",
    "V(graph_plot_name2)$label.cex=log(V(graph_plot_name2)$degree/10)\n",
    "V(graph_plot_name2)$shadow = FALSE\n",
    "E(graph_plot_name2)$edge.curved=0.5\n",
    "E(graph_plot_name2)$arrow.size=1\n",
    "E(graph_plot_name2)$width=0.1\n",
    "\n",
    "# R plots have a variety of layouts that you can choose from.\n",
    "# cut and paste any of these into the \"layout =\" section to change the layout.\n",
    "# \"layout_nicely\" is a good generic layout in most cases.\n",
    "\n",
    "#  layout_nicely\n",
    "#  layout_with_sugiyama\n",
    "#  layout_as_tree\n",
    "#  layout_in_circle\n",
    "#  layout_on_grid\n",
    "#  layout_on_sphere\n",
    "#  layout_with_lgl\n",
    "#  layout_with_fr\n",
    "#  layout_with_kk\n",
    "\n",
    "layout = \"layout_nicely\"\n",
    "#graph_plot_vis <- toVisNetworkData(graph_plot_name, idToLabel=TRUE)\n",
    "\n",
    "#visIgraph(graph_plot_name, layout=layout) %>%\n",
    "#      visEdges(shadow=FALSE)\n",
    "\n",
    "\n"
   ]
  },
  {
   "cell_type": "code",
   "execution_count": 8,
   "metadata": {
    "collapsed": true
   },
   "outputs": [],
   "source": [
    "outputIgraph <- visIgraph(graph_plot_name, layout=layout, idToLabel=FALSE, type=\"full\") %>%\n",
    "      visEdges(shadow=FALSE) %>%\n",
    "      visConfigure(enabled = TRUE)\n",
    "\n",
    "outputIgraph2 <- visIgraph(graph_plot_name2, layout=layout, idToLabel=FALSE, type=\"full\") %>%\n",
    "      visEdges(shadow=FALSE) %>%\n",
    "      visConfigure(enabled = TRUE)"
   ]
  },
  {
   "cell_type": "code",
   "execution_count": 8,
   "metadata": {},
   "outputs": [],
   "source": [
    "# Write the graphml\n",
    "write.graph (graph_file, savename, format='graphml')\n",
    "write.graph (graph_file2, savename2, format='graphml')\n",
    "\n"
   ]
  },
  {
   "cell_type": "code",
   "execution_count": 9,
   "metadata": {
    "collapsed": true
   },
   "outputs": [],
   "source": [
    "visSave(outputIgraph, file = savehtml)\n",
    "visSave(outputIgraph2, file = savehtml2)"
   ]
  },
  {
   "cell_type": "code",
   "execution_count": null,
   "metadata": {
    "collapsed": true
   },
   "outputs": [],
   "source": []
  }
 ],
 "metadata": {
  "kernelspec": {
   "display_name": "R",
   "language": "R",
   "name": "ir"
  },
  "language_info": {
   "codemirror_mode": "r",
   "file_extension": ".r",
   "mimetype": "text/x-r-source",
   "name": "R",
   "pygments_lexer": "r",
   "version": "3.3.2"
  }
 },
 "nbformat": 4,
 "nbformat_minor": 2
}
