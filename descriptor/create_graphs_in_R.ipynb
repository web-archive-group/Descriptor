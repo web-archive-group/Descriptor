{
 "cells": [
  {
   "cell_type": "code",
   "execution_count": 119,
   "metadata": {
    "collapsed": false
   },
   "outputs": [],
   "source": [
    "# Install the igraph library\n",
    "\n",
    "library(igraph)"
   ]
  },
  {
   "cell_type": "code",
   "execution_count": 120,
   "metadata": {
    "collapsed": false
   },
   "outputs": [],
   "source": [
    "\n",
    "# Helper function for getting warcbase data into igraph\n",
    "processFile = function(filepath) {\n",
    "  con = file(filepath, \"r\")\n",
    "  line = readLines(con)\n",
    "  line <- as.data.frame(do.call(rbind, strsplit(gsub('\\\\(|\\\\)', '', line), ',')), stringsAsFactors=FALSE)\n",
    "  names(line) = c(\"date\", \"from\", \"to\", \"weight\")\n",
    "  return (line)\n",
    "  close(con)\n",
    "}\n"
   ]
  },
  {
   "cell_type": "code",
   "execution_count": 117,
   "metadata": {
    "collapsed": false
   },
   "outputs": [],
   "source": [
    "\n",
    "# \n",
    "filepath = '~/data/links/'\n",
    "file = 'ALBERTA_canadian_business_grey_literature'\n",
    "suffix = '-links.txt'\n",
    "\n",
    "savesuffix = '.graphml'\n",
    "savepath = '~/data/graphml/'\n",
    "\n",
    "filename = paste0(filepath, file, suffix)\n",
    "savename = paste0(savepath, file, savesuffix)\n",
    "\n",
    "graph_file <- graph.data.frame(processFile(filename)[c(\"from\", \"to\", \"weight\")], directed=TRUE)"
   ]
  },
  {
   "cell_type": "code",
   "execution_count": 118,
   "metadata": {
    "collapsed": false
   },
   "outputs": [],
   "source": [
    "write.graph (graph_file, savename, format='graphml')"
   ]
  },
  {
   "cell_type": "code",
   "execution_count": 116,
   "metadata": {
    "collapsed": false
   },
   "outputs": [
    {
     "data": {
      "text/plain": [
       "IGRAPH DNW- 142 470 -- \n",
       "+ attr: name (v/c), weight (e/c)\n",
       "+ edges (vertex names):\n",
       " [1] ceocouncil.ca     ->ceocouncil.ca collierscanada.com->tbe.taleo.net\n",
       " [3] collierscanada.com->tbe.taleo.net collierscanada.com->tbe.taleo.net\n",
       " [5] collierscanada.com->tbe.taleo.net collierscanada.com->tbe.taleo.net\n",
       " [7] collierscanada.com->youtube.com   collierscanada.com->twitter.com  \n",
       " [9] collierscanada.com->colliers.com  collierscanada.com->linkedin.com \n",
       "[11] collierscanada.com->youtube.com   collierscanada.com->colliers.com \n",
       "[13] collierscanada.com->linkedin.com  collierscanada.com->twitter.com  \n",
       "[15] collierscanada.com->twitter.com   collierscanada.com->youtube.com  \n",
       "+ ... omitted several edges"
      ]
     },
     "metadata": {},
     "output_type": "display_data"
    }
   ],
   "source": [
    "graph_file"
   ]
  },
  {
   "cell_type": "code",
   "execution_count": null,
   "metadata": {
    "collapsed": true
   },
   "outputs": [],
   "source": []
  }
 ],
 "metadata": {
  "kernelspec": {
   "display_name": "R",
   "language": "R",
   "name": "ir"
  },
  "language_info": {
   "codemirror_mode": "r",
   "file_extension": ".r",
   "mimetype": "text/x-r-source",
   "name": "R",
   "pygments_lexer": "r",
   "version": "3.3.2"
  }
 },
 "nbformat": 4,
 "nbformat_minor": 2
}
