{
 "cells": [
  {
   "cell_type": "markdown",
   "metadata": {},
   "source": [
    "Creating a Seed Document for Analysis\n",
    "=====================================\n",
    "\n",
    "This notebook outlines a tutorial for including data for the Web Archive Collections.  This includes\n",
    "- Descriptive Data for the collection itself\n",
    "- Selected Description of Most Interesting Seeds\n",
    "- Time-series analysis of the main domains through Crawl-viz (https://github.com/web-archive-group/WALK-CrawlVis)\n",
    "- Including some field notes to help others get a \"feel\" for what's in the collection.\n",
    "- Possibly utilizing some annotation software like Hypothes.is to take advantage of crowd sourcing."
   ]
  },
  {
   "cell_type": "markdown",
   "metadata": {},
   "source": [
    "Observing the Archive\n",
    "=====================\n",
    "\n",
    "The first step is to view the archive at archive-it.org.  For this example, I am going to use the [Canadian Political Parties and Political Interest Groups Archive](https://archive-it.org/collections/227). Reading through the archive, what websites are archived, who owns it and so on is the first main step.  Maybe jot down some notes on these questions:\n",
    "\n",
    "- What kinds of sites are being collected? (Political parties & interest groups)\n",
    "- How long have they been collecting data? (for over 10 years)\n",
    "- What qualitative evaluations can you make? (In general, marginal parties like The Cosmopolitan Party are treated as having equal importance as established parties such as the Liberals, Conservatives & NDP.)"
   ]
  },
  {
   "cell_type": "markdown",
   "metadata": {},
   "source": [
    "Observing the Crawl-Viz\n",
    "=======================\n",
    "\n",
    "Each crawl has been analyse in a time series via the [Crawl-Viz data site](https://web-archive-group.github.io/WALK-CrawlVis/crawl-sites). [CPP's crawl viz](https://web-archive-group.github.io/WALK-CrawlVis/crawl-sites/TORONTO_Canadian_Political_Parties-urls.html) is very interesting. For example, one might expect that established parties would have more to say than marginal parties. In fact, the busiest web site appears to be [equalvoice.ca](http://www.equalvoice.ca), an advocacy group committed to including more women in political life. Nonetheless, additional notes about the crawl-viz would be very helpful.  Jot them down."
   ]
  },
  {
   "cell_type": "markdown",
   "metadata": {},
   "source": [
    "# Enter Data into a NoSql Database\n",
    "\n",
    "NoSql is all the rage these days. Not that that really means that much. Sql or *structured query language* was the standard for everything not very long ago. The reason for this is that computer processing had a hard time processing lots of data, so we spent a lot of time trying to keep everything organized so it was easy to get at later. NoSQL does not use SQL. That sounds fancy, but one of the most common ways to store data is to apply \"key-value pairs\" which, if you know anything about programming, is the exact same thing that a Dictionary in Python or an Object in Javascript does.  It's also the way that JSON, a popular alternative to XML, works.  For instance:\n",
    "<pre>\n",
    "{\"key\" : \"value\" }\n",
    "</pre>\n",
    "\n",
    "There!  I just did nosql.  So exciting eh?  Well, there's more to it than this of course. One advantage to this approach is its flexibility.  Instead of conforming to a specific schema or structure, you can just put the data in a store and make things up as you go along. The code below does this."
   ]
  },
  {
   "cell_type": "code",
   "execution_count": 1,
   "metadata": {
    "collapsed": true
   },
   "outputs": [],
   "source": [
    "# TinyDB is a very simple NoSQL database used for small projects.  It's not ideal for large projects\n",
    "# because it is file-based, meaning only one person can change the database at a time.\n",
    "#\n",
    "# We are also importing the time library so that we can include some timestamps as part of the work.\n",
    "import sys\n",
    "sys.path.append('/opt/anaconda/anaconda3/lib/python3.6/site-packages')\n",
    "import tinydb as tdb\n",
    "import time\n",
    "#import networkx\n",
    "from ipywidgets import widgets, Layout"
   ]
  },
  {
   "cell_type": "code",
   "execution_count": 2,
   "metadata": {
    "collapsed": true
   },
   "outputs": [],
   "source": []
  },
  {
   "cell_type": "code",
   "execution_count": 4,
   "metadata": {},
   "outputs": [
    {
     "name": "stdout",
     "output_type": "stream",
     "text": [
      "{'seed_main', '_default', 'seed_backup', 'collections_backup', 'collections'}\n"
     ]
    }
   ],
   "source": [
    "# !!!!!!!!!!!!!  USE WITH CARE!  Will delete all tables from the database !!!!!!!!!!!!!!!!\n",
    "\n",
    "################# seed_main.purge()\n",
    "################# seed_backup.purge()\n",
    "################# collections.purge()\n",
    "################# collections_backup.purge()\n",
    "################# db.purge_tables()\n",
    "################# default = db.table(\"_default\")\n",
    "print (db.tables())"
   ]
  },
  {
   "cell_type": "markdown",
   "metadata": {},
   "source": [
    "# Describe the collection and add to the Database\n",
    "\n",
    "A tinyDB accepts python objects (or dictionaries) in key-value pairs as data. Therefore, if we want to add information into the database, we must make it conform to python dictionary format: { 'key' : 'value\" }.  In python, we can do this one of two ways.  \n",
    "\n",
    "1. Write out the whole dictionary each time (next slide) OR\n",
    "2. add data to the object after the fact.  For example, \n",
    "   <pre> description['key'] = value \n",
    "   </pre>\n",
    "   will put \"value\" in the dictionary that can be accessed by searching\n",
    "   \"key.\"\n",
    "   \n",
    "### Troubleshooting\n",
    "\n",
    "#### Invalid Syntax:\n",
    "Check for:\n",
    "    1. commas after each selection\n",
    "    2. all quotes are completed with the same format.\n",
    "       ( NOTE: in python, single quotes assume everything inside are literally correct.\n",
    "       Double quotes accept programming instructions, unless otherwise escaped.\n",
    "       I suggest using single quotes because '&' will properly give you & while \"&\" might\n",
    "       think & is doing something special.\n",
    "    3. Keys are encased in quotes. 'key'\n",
    "    4. Values are encased in quotes unless they are number values.\n",
    "       \n"
   ]
  },
  {
   "cell_type": "markdown",
   "metadata": {},
   "source": [
    "## Use a pre-set form to enter information\n",
    "\n",
    "The next window will ask you for the new information piece by piece.  If you do not want to use this form in this way, you can enter the information directly into the Python object below."
   ]
  },
  {
   "cell_type": "code",
   "execution_count": 49,
   "metadata": {},
   "outputs": [
    {
     "data": {
      "application/vnd.jupyter.widget-view+json": {
       "model_id": "26c5dc62dc054c1eb90867b3dd3cea05"
      }
     },
     "metadata": {},
     "output_type": "display_data"
    },
    {
     "data": {
      "application/vnd.jupyter.widget-view+json": {
       "model_id": "d1d0d6d5600d4ac7a2918c5e68138b00"
      }
     },
     "metadata": {},
     "output_type": "display_data"
    },
    {
     "data": {
      "application/vnd.jupyter.widget-view+json": {
       "model_id": "9b5c7d0bd0ad40e99d62b2f9332110e1"
      }
     },
     "metadata": {},
     "output_type": "display_data"
    },
    {
     "data": {
      "application/vnd.jupyter.widget-view+json": {
       "model_id": "bcfa03846ca9482e806f11383e1cb581"
      }
     },
     "metadata": {},
     "output_type": "display_data"
    },
    {
     "data": {
      "application/vnd.jupyter.widget-view+json": {
       "model_id": "ba9a74f7a88e4bbbb5e2b4829718fbf6"
      }
     },
     "metadata": {},
     "output_type": "display_data"
    },
    {
     "data": {
      "application/vnd.jupyter.widget-view+json": {
       "model_id": "7021cd8a226f4387b7c60f9ff9b80bfd"
      }
     },
     "metadata": {},
     "output_type": "display_data"
    },
    {
     "data": {
      "application/vnd.jupyter.widget-view+json": {
       "model_id": "c8c77a336a7f431d988edc5c1ecf2342"
      }
     },
     "metadata": {},
     "output_type": "display_data"
    },
    {
     "data": {
      "application/vnd.jupyter.widget-view+json": {
       "model_id": "2bf745e2088f4aaea9773a8626554354"
      }
     },
     "metadata": {},
     "output_type": "display_data"
    },
    {
     "data": {
      "application/vnd.jupyter.widget-view+json": {
       "model_id": "228c9854e4724fd9b7ba321e61f01943"
      }
     },
     "metadata": {},
     "output_type": "display_data"
    },
    {
     "data": {
      "application/vnd.jupyter.widget-view+json": {
       "model_id": "90ce7327488e423ab6865b96d58fa349"
      }
     },
     "metadata": {},
     "output_type": "display_data"
    }
   ],
   "source": [
    "from IPython.display import display\n",
    "label1 = widgets.Label(value=\"Enter the Collection\\'s title\", layout=Layout(width=\"50%\"))\n",
    "display(label1)\n",
    "wid_collection_title = widgets.Text()\n",
    "display(wid_collection_title)\n",
    "label2 = widgets.Label(value=\"Enter the Collection\\'s filename\", layout=Layout(width=\"50%\"))\n",
    "display(label2)\n",
    "wid_WALK_collection_folder = widgets.Text()\n",
    "display (wid_WALK_collection_folder)\n",
    "label3 = widgets.Label(value=\"Enter the Institutional description\", layout=Layout(width=\"50%\"))\n",
    "display(label3)\n",
    "wid_institutional_description = widgets.Textarea(layout=Layout(width=\"50%\", height=\"150px\"))\n",
    "display (wid_institutional_description)\n",
    "label4 = widgets.Label(value=\"Describe the collection yourself (about 50 words)\", layout=Layout(width=\"50%\"))\n",
    "display(label4)\n",
    "wid_WALK_description = widgets.Textarea(layout=Layout(width=\"50%\", height=\"150px\"))\n",
    "display (wid_WALK_description)\n",
    "label5 = widgets.Label(value=\"Describe the graphViz graph, in your own words.\", layout=Layout(width=\"50%\"))\n",
    "display(label5)\n",
    "wid_crawl_viz_description = widgets.Textarea(layout=Layout(width=\"50%\", height=\"150px\"))\n",
    "display (wid_crawl_viz_description)"
   ]
  },
  {
   "cell_type": "code",
   "execution_count": 50,
   "metadata": {},
   "outputs": [],
   "source": [
    "description = {\n",
    "    ## collection_title and WALK_collection_folder are used to decide\n",
    "    ## whether to insert a new item or to update an old one ...\n",
    "    \n",
    "    'collection_title' : wid_collection_title.value,\n",
    "    \n",
    "    'WALK_collection_folder' : wid_WALK_collection_folder.value,\n",
    "    \n",
    "    ## If you accidentally update the wrong item, you can retrieve the old value from the \n",
    "    ## collections_backup table.\n",
    "    \n",
    "    \n",
    "    # How does the Library/Archives describe the archive?\n",
    "    'institutional_description' : wid_institutional_description.value,\n",
    "    \n",
    "    # In your own words, how do you describe the collection\n",
    "    'WALK_description' : wid_WALK_description.value,\n",
    "    \n",
    "    # What file did you use to view the viz-link?\n",
    "    'crawl_viz_description' : wid_crawl_viz_description.value,\n",
    "    \n",
    "    ##  You can add additional items here using the format \n",
    "    ##  'META_DATA_TAG' : 'DATA_VALUES',\n",
    "}\n",
    "\n",
    "def input_form (button):\n",
    "    print (\"submitted!\") \n",
    "    # set up database\n",
    "    db = tdb.TinyDB(\"./data/WALK.json\")\n",
    "\n",
    "    # db is now what our database is called.  We can also create some tables\n",
    "\n",
    "    collections = db.table(\"collections\")  # the table for describing an overall collection\n",
    "    collections_backup = db.table(\"collections_backup\") # a table for backing things up whenever we mess up\n",
    "\n",
    "    seed_main = db.table(\"seed_main\") # in each collection, there are a number of websites we might want to describe.\n",
    "    seed_backup = db.table(\"seed_backup\") # again, a backup in case we lose information.\n",
    "\n",
    "    Seed = tdb.Query()  # Seed will be the query object we will use (instead of having to write Query() all the time).\n",
    "    exists = collections.search(Seed.collection_title==description['collection_title']) and collections.search(Seed.WALK_collection_folder==description['WALK_collection_folder'])\n",
    "    description['TIMESTAMP'] = time.time() #create a timestamp\n",
    "    print(description)\n",
    "    if exists:\n",
    "        # print(collections.search(Seed.collection_title.exists()))\n",
    "        el = collections.get(Seed.collection_title==description['collection_title'])\n",
    "        il = collections.get(Seed.WALK_collection_folder==description['WALK_collection_folder'])\n",
    "        if el.eid == il.eid:\n",
    "            collections.update(description, eids=[el.eid])\n",
    "            collections_backup.insert(description)\n",
    "        print (\"updated \"  + description['collection_title'] + \".\\n\")\n",
    "        print (\"Previous insert added to backup log.\\n\")\n",
    "        backup = max([(x['collection_title'], x['TIMESTAMP'], x.eid) for x in collections_backup.search(Seed.TIMESTAMP > 0)])\n",
    "        print ('title: \"' + backup[0] + \"\\ntimestamp: \" + str(backup[1]) + \"\\neid (aka id): \" + str(backup[2]))        \n",
    "    else:\n",
    "        collections.insert(description)\n",
    "        print (\"inserted!\")\n",
    "        \n",
    "def clear_data(button):\n",
    "    description = dict.fromkeys(description.keys(), \"\")\n",
    "    wid_collection_title.value,wid_WALK_collection_folder.value,wid_institutional_description.value,wid_WALK_description.value,wid_crawl_viz_description.value = ('',\"\",\"\",\"\",\"\",\"\")\n",
    "    \n",
    "    "
   ]
  },
  {
   "cell_type": "markdown",
   "metadata": {},
   "source": [
    "## Review Your Information\n",
    "\n",
    "Review your results below.  If you discover an error, please go to the previous window and re-enter the information."
   ]
  },
  {
   "cell_type": "code",
   "execution_count": 51,
   "metadata": {},
   "outputs": [
    {
     "name": "stdout",
     "output_type": "stream",
     "text": [
      "Review your results here.  If you discover an error, please go to the previous window and re-enter the information.\n",
      "The collection title is: \n",
      "\n",
      "\n",
      "\n",
      "WALK_collection_folder: \n",
      "\n",
      "\n",
      "\n",
      "Institutional Description \n",
      "\n",
      "\n",
      "\n",
      "WALK_description \n",
      "\n",
      "\n",
      "\n",
      "Crawl Viz description \n",
      "\n",
      "\n",
      "\n"
     ]
    },
    {
     "data": {
      "application/vnd.jupyter.widget-view+json": {
       "model_id": "791f1cc8ad264bfbbeff3a9cb7d3adfc"
      }
     },
     "metadata": {},
     "output_type": "display_data"
    },
    {
     "data": {
      "application/vnd.jupyter.widget-view+json": {
       "model_id": "9c9e1d727e524a74867a3a491ed6cd82"
      }
     },
     "metadata": {},
     "output_type": "display_data"
    }
   ],
   "source": [
    "print (\"Review your results here.  If you discover an error, please go to the previous window and re-enter the information.\")\n",
    "print (\"The collection title is: \\n\\n\" + wid_collection_title.value + \"\\n\")\n",
    "print (\"WALK_collection_folder: \\n\\n\" + wid_WALK_collection_folder.value + \"\\n\")\n",
    "print (\"Institutional Description \\n\\n\" + wid_institutional_description.value + \"\\n\")\n",
    "print (\"WALK_description \\n\\n\" + wid_WALK_description.value + \"\\n\")\n",
    "print (\"Crawl Viz description \\n\\n\" + wid_crawl_viz_description.value + \"\\n\")\n",
    "\n",
    "button = widgets.Button(\n",
    "    value=False,\n",
    "    description='Submit Data',\n",
    "    disabled=False,\n",
    "    button_style='success', # 'success', 'info', 'warning', 'danger' or ''\n",
    "    tooltip='Description',\n",
    "    icon='check')\n",
    "\n",
    "clear = widgets.Button(\n",
    "    value=False,\n",
    "    description='Clear Data',\n",
    "    disabled=False,\n",
    "    button_style='', # 'success', 'info', 'warning', 'danger' or ''\n",
    "    tooltip='Description',\n",
    "    icon='check')\n",
    "\n",
    "display(button)\n",
    "display(clear)\n",
    "\n",
    "button.on_click(input_form)\n",
    "clear.on_click(clear_data)\n",
    "\n"
   ]
  },
  {
   "cell_type": "markdown",
   "metadata": {},
   "source": [
    "## Enter data into python object\n",
    "\n",
    "If everything checks out above, you can enter the information into the database with the code below.  Note, you can also skip the Use **\"a pre-set form to enter information\"** step and replace the input variables with a string.  A string is information encased in single quotes like:\n",
    "\n",
    "` 'This is a string' `\n",
    "\n",
    "So if the collection is called \"COLLECTION\", the you could replace the line that says\n",
    "\n",
    "`'collection_title' : collection_title,`\n",
    "\n",
    "with:\n",
    "\n",
    "` 'collection_title' : 'COLLECTION',`\n",
    "\n",
    "You could also include more information by adding another item at the end followed by a comma.  For instance, \n",
    "\n",
    "` 'special_notes' : 'The crawls on 2012 appear to be lost.', `\n",
    "\n",
    "Would add an entry called 'special_notes' that includes the information about the missing 2012 web crawls.  You do not have to enter this information if you do not want to.\n",
    "\n",
    "If the collection title and collection folder are both not matched in the database, the code below will enter the data and print \"inserted.\"  If the collection title already exists, it will enter 'updated (name of collection)\" and the old data entry will be put in a backup database for future reference."
   ]
  },
  {
   "cell_type": "code",
   "execution_count": 9,
   "metadata": {},
   "outputs": [
    {
     "ename": "NameError",
     "evalue": "name 'collection_title' is not defined",
     "output_type": "error",
     "traceback": [
      "\u001b[0;31m---------------------------------------------------------------------------\u001b[0m",
      "\u001b[0;31mNameError\u001b[0m                                 Traceback (most recent call last)",
      "\u001b[0;32m<ipython-input-9-510cad013964>\u001b[0m in \u001b[0;36m<module>\u001b[0;34m()\u001b[0m\n\u001b[1;32m      4\u001b[0m     \u001b[0;31m## whether to insert a new item or to update an old one ...\u001b[0m\u001b[0;34m\u001b[0m\u001b[0;34m\u001b[0m\u001b[0m\n\u001b[1;32m      5\u001b[0m \u001b[0;34m\u001b[0m\u001b[0m\n\u001b[0;32m----> 6\u001b[0;31m     \u001b[0;34m'collection_title'\u001b[0m \u001b[0;34m:\u001b[0m \u001b[0mcollection_title\u001b[0m\u001b[0;34m,\u001b[0m\u001b[0;34m\u001b[0m\u001b[0m\n\u001b[0m\u001b[1;32m      7\u001b[0m \u001b[0;34m\u001b[0m\u001b[0m\n\u001b[1;32m      8\u001b[0m     \u001b[0;34m'WALK_collection_folder'\u001b[0m \u001b[0;34m:\u001b[0m \u001b[0mWALK_collection_folder\u001b[0m\u001b[0;34m,\u001b[0m\u001b[0;34m\u001b[0m\u001b[0m\n",
      "\u001b[0;31mNameError\u001b[0m: name 'collection_title' is not defined"
     ]
    }
   ],
   "source": [
    "\n",
    "\n",
    "\n",
    "\n",
    "\n"
   ]
  },
  {
   "cell_type": "code",
   "execution_count": 12,
   "metadata": {},
   "outputs": [
    {
     "ename": "NameError",
     "evalue": "name 'WALK_collection_folder' is not defined",
     "output_type": "error",
     "traceback": [
      "\u001b[0;31m---------------------------------------------------------------------------\u001b[0m",
      "\u001b[0;31mNameError\u001b[0m                                 Traceback (most recent call last)",
      "\u001b[0;32m<ipython-input-12-7e3ea2ffc8d9>\u001b[0m in \u001b[0;36m<module>\u001b[0;34m()\u001b[0m\n\u001b[0;32m----> 1\u001b[0;31m \u001b[0mprint\u001b[0m\u001b[0;34m(\u001b[0m\u001b[0mWALK_collection_folder\u001b[0m\u001b[0;34m)\u001b[0m\u001b[0;34m\u001b[0m\u001b[0m\n\u001b[0m",
      "\u001b[0;31mNameError\u001b[0m: name 'WALK_collection_folder' is not defined"
     ]
    }
   ],
   "source": [
    "print(WALK_collection_folder)"
   ]
  },
  {
   "cell_type": "markdown",
   "metadata": {},
   "source": [
    "# More detailed description of collection contents\n",
    "\n",
    "Within each Collection, there may be one or more seeds that are worth an additional look.  I propose using the seeds table for this.  Again, you can include whatever additional information you think is relevant by providing an additional key: value pair.\n",
    "\n"
   ]
  },
  {
   "cell_type": "code",
   "execution_count": 49,
   "metadata": {},
   "outputs": [
    {
     "name": "stdout",
     "output_type": "stream",
     "text": [
      "[{'TIMESTAMP': 1488049265.426975, 'description': '\\n            Also called the \"Progressive Nationalist Party\", it is a \"progressive and environment protection oriented\\n            political party\" that seeks the \"political, economic and cultural assimilation of Canada, into the\\n            United States, under the _Security and Prosperity Partnership_ (SPP).\"\\n        ', 'latest_crawl': '2012-11-03', 'url': 'http://agoracosmopolite.com', 'videos': 0, 'times_captured': 59, 'seed_name': 'Cosmopolitan Party of Canada', 'WALK_collection_folder': 'TORONTO_Canadian_Political_Parties', 'collection_title': 'Canadian Political Parties and Political Interest Groups', 'first_crawl': '2005-10-04'}]\n",
      "updated Canadian Political Parties and Political Interest Groups.\n",
      "\n",
      "Previous insert added to backup log.\n",
      "\n",
      "title: \"Canadian Political Parties and Political Interest Groups\n",
      "timestamp: 1488049284.002535\n",
      "eid (aka id): 2\n"
     ]
    }
   ],
   "source": [
    "seed = {\n",
    "        \"collection_title\" : \"Canadian Political Parties and Political Interest Groups\",\n",
    "        \"WALK_collection_folder\" : \"TORONTO_Canadian_Political_Parties\",\n",
    "        \"seed_name\" : \"Cosmopolitan Party of Canada\",\n",
    "        \"first_crawl\" : \"2005-10-04\",\n",
    "        \"latest_crawl\" : \"2012-11-03\",\n",
    "        \"times_captured\": 59,\n",
    "        \"videos\" : 0,\n",
    "        \"url\" : \"http://agoracosmopolite.com\",\n",
    "        \"description\" : '''\n",
    "            Also called the \"Progressive Nationalist Party\", it is a \"progressive and environment protection oriented\n",
    "            political party\" that seeks the \"political, economic and cultural assimilation of Canada, into the\n",
    "            United States, under the _Security and Prosperity Partnership_ (SPP).\"\n",
    "        ''', \n",
    "    }\n",
    "\n",
    "seed_exists = ((seed_main.search(Seed.collection_title==seed['collection_title']) or seed_main.search(Seed.WALK_collection_folder==seed['WALK_collection_folder']))\n",
    "                and seed_main.search(Seed.seed_name==seed['seed_name']))\n",
    "print (seed_exists)\n",
    "seed['TIMESTAMP'] = time.time()\n",
    "if seed_exists:\n",
    "    # print(collections.search(Seed.collection_title.exists()))\n",
    "    sel = seed_main.get(Seed.collection_title==seed['collection_title'])\n",
    "    sil = seed_main.get(Seed.WALK_collection_folder==seed['WALK_collection_folder'])\n",
    "    ssl = seed_main.get(Seed.seed_name==seed['seed_name'])\n",
    "    if sel.eid == sil.eid == ssl.eid:\n",
    "        seed_main.update(seed, eids=[el.eid])\n",
    "        seed_backup.insert(seed)\n",
    "    print (\"updated \"  + seed['collection_title'] + \".\\n\")\n",
    "    print (\"Previous insert added to backup log.\\n\")\n",
    "    Seed_backup = max([(x['collection_title'], x['TIMESTAMP'], x.eid) for x in seed_backup.search(Seed.TIMESTAMP > 0)])\n",
    "    print ('title: \"' + Seed_backup[0] + \"\\ntimestamp: \" + str(Seed_backup[1]) + \"\\neid (aka id): \" + str(Seed_backup[2]))\n",
    "        \n",
    "else:\n",
    "    seed_main.insert(seed)\n",
    "    print (\"inserted!\")"
   ]
  },
  {
   "cell_type": "code",
   "execution_count": 63,
   "metadata": {},
   "outputs": [
    {
     "name": "stdout",
     "output_type": "stream",
     "text": [
      "Canadian Political Parties and Political Interest Groups\n",
      "has the following seeds:\n",
      "   Cosmopolitan Party of Canada\n"
     ]
    }
   ],
   "source": [
    "import textwrap\n",
    "RESULTS = collections.search(Seed.collection_title.exists())\n",
    "for item in RESULTS:\n",
    "    print (item['collection_title'])\n",
    "    seeds = seed_main.search(Seed.collection_title==item['collection_title'])\n",
    "    print (\"has the following seeds:\")\n",
    "    for se in seeds:\n",
    "        \n",
    "        print (textwrap.indent(se['seed_name'], '   '))\n"
   ]
  },
  {
   "cell_type": "markdown",
   "metadata": {},
   "source": [
    "Preparing Gephi\n",
    "===============\n",
    "\n",
    "The data that includes Gephi-compatible files are available at the [WALK dataverse page](https://dataverse.scholarsportal.info/dataset.xhtml?persistentId=hdl:10864/12040). Each file is in \"gdf\" format which is compatable with a network visualization tool called [Gephi](https://gephi.org/). We are going to use gephi to produce attractive web graphs.\n",
    "\n",
    "* Start by downloading the file and starting Gephi. \n",
    "        > File > Open (or ⌘o)\n",
    "        > Change file format to GDF (Guess) *.gdf\n",
    "        > Select the file and open\n",
    "\n",
    "The raw data will probably just be a large set of nodes with no real order to them. Not very helpful to us.\n",
    "\n",
    "\n",
    "<img src=\"img/firstGephi.png\" alt=\"Not very helpful Gephi visualization\" width=\"200\" height=\"200\" />\n",
    "\n",
    "\n",
    "We need to filter them.  A good way is to focus on [strongly connected components](http://www.geeksforgeeks.org/strongly-connected-components/). A component is just a group of nodes (in this case websites) all connected together. *Strongly* connected components are a little different in that everyone in the component will have access to the same information. A good test of a strongly connected component is if you run your finger from node to node, following the direction of each arrow, eventually you will be able to access every node.\n",
    "\n",
    "If we use the statistics menu, gephi will calculate a number of things that are important to us. To create a strongly connected component graph, we need to run the connected components algorithm. \n",
    "\n",
    "<img src=\"img/menu.png\" alt=\"Gephi Statistics Menu\" width=\"200\" height=\"800\" />\n",
    "\n",
    "It will ask us if we want to do this in a directed or undirected fashion. Directed means that we care about the direction of the linkages, so choose that (it should be the default).\n",
    "\n",
    "Now for the hard part.  Out of many thousands of strongly connected components, we need to find the largest ones.\n",
    "\n",
    "Use the top bar to switch to the data laboratory.\n",
    "\n",
    "<img src=\"img/topbar.png\" alt=\"Gephi Top Bar\" width=\"300\" height=\"200\" />\n",
    "\n",
    "\n",
    "There's a light bulb icon at the far right of the spreadsheet.  Click that to limit the number of pages you see.\n",
    "\n",
    "<img src=\"img/lightbulb.png\" alt=\"Gephi Light Bulb\" width=\"300\" height=\"200\" />\n",
    "\n",
    "Unclick all the checks except for strongly connected component.  Then click the label \"Strongly Connected Component\" to sort the list.  \n",
    "\n",
    "Perhaps there is a better way to do this with a regular expression, but we need to find the Strongly Connected Component ID that has a largest number of nodes. Unfortunately, this requires scrolling through the list to find what ID that is.  Fortunately, the largest component is probably so large that as you scroll quickly down, it will be obvious because the ids will be the same for a while.  In my case the number was 13047 (yes, pretty far down) but I found it in less than 2 minutes.\n",
    "\n",
    "<img src=\"img/list.png\" alt=\"Long List Changing\" width=\"200\" height=\"800\" />\n",
    "\n",
    "Now to filter the graph. Go back to \"Overview\" to see the graph.  On the statistics menu, there is a tab called \"filter\" click that.\n",
    "\n",
    "* Click attributes > Equal \n",
    "\n",
    "and select Strongly Connected Component ID. \n",
    "\n",
    "at the bottom, you will see \"value.\" Enter the ID of the component with the large number of units. (Again, mine was 13047). Then click \"filter.\"  The new graph will be much more manageable.\n",
    "\n",
    "<img src=\"img/filtered.png\" alt=\"Filtered Graph\" width=\"200\" height=\"200\" />\n",
    "\n",
    "\n",
    "Now on the left, we can use an algorithm to organize the nodes a little better.  Go to the \"layout\" menu and select the \"Yifan Hu\" algorithm. \n",
    "\n",
    "<img src=\"img/yifan.png\" alt=\"Yifan Hu Menu\" width=\"200\" height=\"800\" />\n",
    "\n",
    "You'll find the layout much better organized.\n",
    "\n",
    "<img src=\"img/yifangraph.png\" alt=\"Yifan Hu Graph\" width=\"200\" height=\"200\" />\n",
    "\n",
    "It's possible that the Yifan Hu is not the best possible layout for your graph.  This is going to depend on what you notice in the graph and what you want to highlight.  Here are some other recommendations:\n",
    "\n",
    "* Force Atlas - This algorithm is better if you have a smaller graph\n",
    "\n",
    "<img src=\"img/fatlas.png\" alt=\"Forced Atlas Graph\" width=\"200\" height=\"200\" />\n",
    "\n",
    "\n",
    "* Circular - This algorithm emphasizes the edges of the graph, as all the nodes are in a circle.\n",
    "\n",
    "<img src=\"img/circular.png\" alt=\"Circular Graph\" width=\"200\" height=\"200\" />\n",
    "\n",
    "\n",
    "* Fruchtermann-Reingold - spaces all the nodes an equal distance apart.\n",
    "\n",
    "<img src=\"img/fruchtermann.png\" alt=\"Fruchtermann-Reingold\" width=\"200\" height=\"200\" />\n",
    "\n",
    "\n",
    "Now the layout is fixed, we can add some color to the graph.  Return to the statistics menu (hit the \"statistics\" tab where you did your filter, and run the \"average degree,\" \"average path length\" and \"modularity\" statistics.\n",
    "\n",
    "Now go to the top left \"partition\" menu.\n",
    "\n",
    "<img src=\"img/partition.png\" alt=\"Partition menu\" width=\"200\" height=\"400\" />\n",
    "\n",
    "Click the \"refresh\" icon to ensure all your new statistics appear.  Then use the select menu to choose \"modularity class\" as a partition.  Gephi will select a number of items based on a modularity (a rough community detection) algorithm.  Then choose a \"sizing\" item to size the nodes based on their degree, betweenness or other value.\n",
    "\n",
    "There are a variety of things you can do with Gephi, that I will leave up to you now. But I do have some suggestions:\n",
    "\n",
    "* Try eliminating some nodes from the analysis that are too obvious (eg. Google, Youtube, Twitter, Facebook).\n",
    "* Use \"spline\" to control for large network (long tail effects), for example when one node has so many more links than everyone else that it's hard to see what's going on.\n",
    "* Try grouping sets of nodes together that have a lot in common (e.g. if there's an NPD.org (french) and an NDP.ca (english) website).\n",
    "\n",
    "This is what I got after a little bit of fiddling with the results:\n",
    "\n",
    "<img src=\"img/cpp.png\" alt=\"Final Product\" width=\"800\" height=\"800\" />"
   ]
  }
 ],
 "metadata": {
  "kernelspec": {
   "display_name": "Python 3",
   "language": "python",
   "name": "python3"
  },
  "language_info": {
   "codemirror_mode": {
    "name": "ipython",
    "version": 3
   },
   "file_extension": ".py",
   "mimetype": "text/x-python",
   "name": "python",
   "nbconvert_exporter": "python",
   "pygments_lexer": "ipython3",
   "version": "3.4.3"
  }
 },
 "nbformat": 4,
 "nbformat_minor": 1
}
